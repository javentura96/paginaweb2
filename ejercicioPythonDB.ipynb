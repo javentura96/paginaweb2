{
 "cells": [
  {
   "cell_type": "code",
   "execution_count": 1,
   "metadata": {},
   "outputs": [
    {
     "name": "stdout",
     "output_type": "stream",
     "text": [
      "Requirement already satisfied: pymongo in c:\\programdata\\anaconda3\\lib\\site-packages (3.8.0)\n"
     ]
    }
   ],
   "source": [
    "! pip install pymongo"
   ]
  },
  {
   "cell_type": "markdown",
   "metadata": {},
   "source": [
    "#### DEFINE FUNCION IMPRIME QUERY"
   ]
  },
  {
   "cell_type": "code",
   "execution_count": 20,
   "metadata": {},
   "outputs": [],
   "source": [
    "def imprimeQuery(cursor):\n",
    "        for fut in cursor:\n",
    "            print(\"%s - %s - %i - %s - %r\" %(fut['nombre'], fut['apellido'], fut['edad'], fut['posicion'], fut['internacional']))"
   ]
  },
  {
   "cell_type": "markdown",
   "metadata": {},
   "source": [
    "#### Define clase futbolista con su meto constructor, y una funcion para que pasemos nuestra lista a diccionario"
   ]
  },
  {
   "cell_type": "code",
   "execution_count": 4,
   "metadata": {},
   "outputs": [],
   "source": [
    "class Futbolista():\n",
    "    \n",
    "    def __init__(self, nombre, apellido, edad, posicion, internacional):\n",
    "        self.nombre = nombre\n",
    "        self.apellido = apellido\n",
    "        self.edad = edad\n",
    "        self.posicion = posicion\n",
    "        self.internacional = internacional\n",
    "        \n",
    "    def toDBcollection(self):\n",
    "        return {\n",
    "            \"nombre\":self.nombre,\n",
    "            \"apellido\":self.apellido,\n",
    "            \"edad\":self.edad,\n",
    "            \"posicion\":self.posicion,\n",
    "            \"internacional\":self.internacional\n",
    "        }"
   ]
  },
  {
   "cell_type": "code",
   "execution_count": 5,
   "metadata": {},
   "outputs": [],
   "source": [
    "from pymongo import MongoClient"
   ]
  },
  {
   "cell_type": "markdown",
   "metadata": {},
   "source": [
    "#### creamos una instancia de MongoClient y nos conectamos al localhost"
   ]
  },
  {
   "cell_type": "code",
   "execution_count": 6,
   "metadata": {},
   "outputs": [],
   "source": [
    "mongoClient = MongoClient(\"localhost\", 27017)"
   ]
  },
  {
   "cell_type": "code",
   "execution_count": 7,
   "metadata": {},
   "outputs": [],
   "source": [
    "futbolistas = [\n",
    "    Futbolista(\"Iker\", \"Casillas\", 33, [\"portero\"], True),\n",
    "    Futbolista('Carles','Puyol',36,['Central', 'Lateral'],True),\n",
    "    Futbolista('Sergio','Ramos',28,['Lateral','Central'],True),\n",
    "    Futbolista('Andrés','Iniesta',30,['Centrocampista','Delantero'],True),\n",
    "    Futbolista('Fernando','Torres',30,['Delantero'],True),\n",
    "    Futbolista('Leo','Baptistao',22,['Delantero'],False)\n",
    "]"
   ]
  },
  {
   "cell_type": "markdown",
   "metadata": {},
   "source": [
    "#### Creamos nuestra base de datos Jugadores en la variable db y nuestra colleccion futbolistas en la variable collection"
   ]
  },
  {
   "cell_type": "code",
   "execution_count": 9,
   "metadata": {},
   "outputs": [],
   "source": [
    "db = mongoClient.Jugadores\n",
    "collection = db.futbolistas"
   ]
  },
  {
   "cell_type": "markdown",
   "metadata": {},
   "source": [
    "#### Inserta el diccionario de futbolistas a la coleccion"
   ]
  },
  {
   "cell_type": "code",
   "execution_count": 15,
   "metadata": {},
   "outputs": [],
   "source": [
    "for futbolista in futbolistas:\n",
    "    collection.insert_one(futbolista.toDBcollection())"
   ]
  },
  {
   "cell_type": "markdown",
   "metadata": {},
   "source": [
    "#### Consulta todos los registros"
   ]
  },
  {
   "cell_type": "code",
   "execution_count": 16,
   "metadata": {},
   "outputs": [],
   "source": [
    "cursor = collection.find()"
   ]
  },
  {
   "cell_type": "code",
   "execution_count": 21,
   "metadata": {
    "scrolled": true
   },
   "outputs": [
    {
     "name": "stdout",
     "output_type": "stream",
     "text": [
      "Sergio - Ramos - 28 - ['Lateral', 'Central'] - True\n",
      "Andrés - Iniesta - 30 - ['Centrocampista', 'Delantero'] - True\n",
      "Fernando - Torres - 30 - ['Delantero'] - True\n",
      "Leo - Baptistao - 22 - ['Delantero'] - False\n",
      "Iker - Casillas - 33 - ['portero'] - True\n",
      "Carles - Puyol - 36 - ['Central', 'Lateral'] - True\n",
      "Sergio - Ramos - 28 - ['Lateral', 'Central'] - True\n",
      "Andrés - Iniesta - 30 - ['Centrocampista', 'Delantero'] - True\n",
      "Fernando - Torres - 30 - ['Delantero'] - True\n",
      "Leo - Baptistao - 22 - ['Delantero'] - False\n"
     ]
    }
   ],
   "source": [
    "imprimeQuery(cursor)"
   ]
  },
  {
   "cell_type": "markdown",
   "metadata": {},
   "source": [
    "#### Consulta los elementos que tengan delantero como valor en la clave posicion"
   ]
  },
  {
   "cell_type": "code",
   "execution_count": 34,
   "metadata": {},
   "outputs": [],
   "source": [
    "cursor = collection.find({\"posicion\":{\"$in\":[\"Delantero\"]}})"
   ]
  },
  {
   "cell_type": "code",
   "execution_count": 35,
   "metadata": {
    "scrolled": true
   },
   "outputs": [
    {
     "name": "stdout",
     "output_type": "stream",
     "text": [
      "Andrés - Iniesta - 30 - ['Centrocampista', 'Delantero'] - True\n",
      "Fernando - Torres - 30 - ['Delantero'] - True\n",
      "Leo - Baptistao - 22 - ['Delantero'] - False\n",
      "Andrés - Iniesta - 30 - ['Centrocampista', 'Delantero'] - True\n",
      "Fernando - Torres - 30 - ['Delantero'] - True\n",
      "Leo - Baptistao - 22 - ['Delantero'] - False\n"
     ]
    }
   ],
   "source": [
    "imprimeQuery(cursor)"
   ]
  },
  {
   "cell_type": "markdown",
   "metadata": {},
   "source": [
    "#### Actualiza las elementos que en la clave edad tengan un valor mayor a 30, incrementando su valor +100"
   ]
  },
  {
   "cell_type": "code",
   "execution_count": 43,
   "metadata": {},
   "outputs": [
    {
     "name": "stderr",
     "output_type": "stream",
     "text": [
      "C:\\ProgramData\\Anaconda3\\lib\\site-packages\\ipykernel_launcher.py:1: DeprecationWarning: update is deprecated. Use replace_one, update_one or update_many instead.\n",
      "  \"\"\"Entry point for launching an IPython kernel.\n"
     ]
    }
   ],
   "source": [
    "cursor = collection.update({\"edad\":{\"$gt\":30}}, {\"$inc\":{\"edad\":100}}, upsert=False, multi=True)"
   ]
  },
  {
   "cell_type": "code",
   "execution_count": 45,
   "metadata": {
    "scrolled": true
   },
   "outputs": [
    {
     "name": "stdout",
     "output_type": "stream",
     "text": [
      "Iker - Casillas - 333 - ['portero'] - True\n",
      "Carles - Puyol - 336 - ['Central', 'Lateral'] - True\n",
      "Sergio - Ramos - 28 - ['Lateral', 'Central'] - True\n",
      "Andrés - Iniesta - 30 - ['Centrocampista', 'Delantero'] - True\n",
      "Fernando - Torres - 30 - ['Delantero'] - True\n",
      "Leo - Baptistao - 22 - ['Delantero'] - False\n",
      "Iker - Casillas - 333 - ['portero'] - True\n",
      "Carles - Puyol - 336 - ['Central', 'Lateral'] - True\n",
      "Sergio - Ramos - 28 - ['Lateral', 'Central'] - True\n",
      "Andrés - Iniesta - 30 - ['Centrocampista', 'Delantero'] - True\n",
      "Fernando - Torres - 30 - ['Delantero'] - True\n",
      "Leo - Baptistao - 22 - ['Delantero'] - False\n"
     ]
    }
   ],
   "source": [
    "cursor = collection.find()\n",
    "imprimeQuery(cursor)"
   ]
  },
  {
   "cell_type": "markdown",
   "metadata": {},
   "source": [
    "#### Elimina los documentos que tengan True como valor en la clave internacional"
   ]
  },
  {
   "cell_type": "code",
   "execution_count": 47,
   "metadata": {},
   "outputs": [
    {
     "name": "stderr",
     "output_type": "stream",
     "text": [
      "C:\\ProgramData\\Anaconda3\\lib\\site-packages\\ipykernel_launcher.py:1: DeprecationWarning: remove is deprecated. Use delete_one or delete_many instead.\n",
      "  \"\"\"Entry point for launching an IPython kernel.\n"
     ]
    },
    {
     "data": {
      "text/plain": [
       "{'n': 10, 'ok': 1.0}"
      ]
     },
     "execution_count": 47,
     "metadata": {},
     "output_type": "execute_result"
    }
   ],
   "source": [
    "collection.remove({\"internacional\":True})"
   ]
  },
  {
   "cell_type": "code",
   "execution_count": 49,
   "metadata": {},
   "outputs": [
    {
     "name": "stdout",
     "output_type": "stream",
     "text": [
      "Leo - Baptistao - 22 - ['Delantero'] - False\n",
      "Leo - Baptistao - 22 - ['Delantero'] - False\n"
     ]
    }
   ],
   "source": [
    "cursor = collection.find()\n",
    "imprimeQuery(cursor)"
   ]
  },
  {
   "cell_type": "code",
   "execution_count": null,
   "metadata": {},
   "outputs": [],
   "source": []
  }
 ],
 "metadata": {
  "kernelspec": {
   "display_name": "Python 3",
   "language": "python",
   "name": "python3"
  },
  "language_info": {
   "codemirror_mode": {
    "name": "ipython",
    "version": 3
   },
   "file_extension": ".py",
   "mimetype": "text/x-python",
   "name": "python",
   "nbconvert_exporter": "python",
   "pygments_lexer": "ipython3",
   "version": "3.7.3"
  }
 },
 "nbformat": 4,
 "nbformat_minor": 2
}
